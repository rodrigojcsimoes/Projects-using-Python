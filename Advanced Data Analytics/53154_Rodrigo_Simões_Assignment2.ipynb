{
 "cells": [
  {
   "cell_type": "markdown",
   "metadata": {},
   "source": [
    "# Rodrigo João Cabriz Simões, nº 53154"
   ]
  },
  {
   "cell_type": "markdown",
   "metadata": {},
   "source": [
    "# Advanced Data Analysis - Assignment 2\n",
    "\n",
    "This notebook contains the **Assignment 2** of the Advanced Data Analysis course.\n",
    "\n",
    "The topic of the assignment consists in applying regression on National Health and Nutrition Examination data.\n",
    "\n",
    "### DEADLINE: 12-October-2022\n",
    "\n",
    "The assignment is **individual**. You should submit your resolution on Moodle by the deadline. While doing this assignment, you can use or adapt any code from the lectures if you want. \n",
    "\n",
    "Students have three grace days that they can use for all assignments and group project, which allows them to deliver the projects late. Use these grace days carefully.\n",
    "\n",
    "[//]: # (We will be using latex for fomulas)\n",
    "\n",
    "<script type=\"text/javascript\"\n",
    "        src=\"https://cdnjs.cloudflare.com/ajax/libs/mathjax/2.7.0/MathJax.js?config=TeX-AMS_CHTML\"></script>\n",
    "        \n",
    "### Notebook Instructions\n",
    "* You only need to deliver this notebook file (notice that, a notebook file extension is filename.ipynb) - Data files must not be submitted\n",
    "* You don't need to create additional cells. Try to use the ones that are already available\n",
    "* The notebook should be delivered with the outputs already available\n"
   ]
  },
  {
   "cell_type": "markdown",
   "metadata": {},
   "source": [
    "# Dataset"
   ]
  },
  {
   "cell_type": "markdown",
   "metadata": {},
   "source": [
    "The file children.csv contains a file with two columns. The first column is the age of each child in\n",
    "months, and the second the weight in Kg. The data is from the National Health and Nutrition Examination\n",
    "Survey of 2017-2018 and represents a sample of children up to 24 months old.\n",
    "\n",
    "The following code loads the children.csv file "
   ]
  },
  {
   "cell_type": "code",
   "execution_count": 1,
   "metadata": {},
   "outputs": [
    {
     "data": {
      "text/html": [
       "<div>\n",
       "<style scoped>\n",
       "    .dataframe tbody tr th:only-of-type {\n",
       "        vertical-align: middle;\n",
       "    }\n",
       "\n",
       "    .dataframe tbody tr th {\n",
       "        vertical-align: top;\n",
       "    }\n",
       "\n",
       "    .dataframe thead th {\n",
       "        text-align: right;\n",
       "    }\n",
       "</style>\n",
       "<table border=\"1\" class=\"dataframe\">\n",
       "  <thead>\n",
       "    <tr style=\"text-align: right;\">\n",
       "      <th></th>\n",
       "      <th>age</th>\n",
       "      <th>weight</th>\n",
       "    </tr>\n",
       "  </thead>\n",
       "  <tbody>\n",
       "    <tr>\n",
       "      <th>0</th>\n",
       "      <td>11.0</td>\n",
       "      <td>10.2</td>\n",
       "    </tr>\n",
       "    <tr>\n",
       "      <th>1</th>\n",
       "      <td>21.0</td>\n",
       "      <td>10.6</td>\n",
       "    </tr>\n",
       "    <tr>\n",
       "      <th>2</th>\n",
       "      <td>7.0</td>\n",
       "      <td>9.3</td>\n",
       "    </tr>\n",
       "    <tr>\n",
       "      <th>3</th>\n",
       "      <td>19.0</td>\n",
       "      <td>8.3</td>\n",
       "    </tr>\n",
       "    <tr>\n",
       "      <th>4</th>\n",
       "      <td>16.0</td>\n",
       "      <td>9.2</td>\n",
       "    </tr>\n",
       "  </tbody>\n",
       "</table>\n",
       "</div>"
      ],
      "text/plain": [
       "    age  weight\n",
       "0  11.0    10.2\n",
       "1  21.0    10.6\n",
       "2   7.0     9.3\n",
       "3  19.0     8.3\n",
       "4  16.0     9.2"
      ]
     },
     "execution_count": 1,
     "metadata": {},
     "output_type": "execute_result"
    }
   ],
   "source": [
    "# This code cell does not need to be changed\n",
    "import os\n",
    "import pandas as pd\n",
    "\n",
    "dataFileName = os.path.join( \"assignment2\", \"children.csv\")\n",
    "dataDF = pd.read_csv(dataFileName)\n",
    "dataDF.head()"
   ]
  },
  {
   "cell_type": "markdown",
   "metadata": {},
   "source": [
    "# Assignment"
   ]
  },
  {
   "cell_type": "markdown",
   "metadata": {},
   "source": [
    "In this assignment, we aim to predict the weight of a children until 24 monthts old based on child age. "
   ]
  },
  {
   "cell_type": "code",
   "execution_count": 2,
   "metadata": {},
   "outputs": [],
   "source": [
    "import matplotlib.pyplot as plt\n",
    "from sklearn import linear_model\n",
    "from sklearn.model_selection import train_test_split\n",
    "from sklearn.preprocessing import PolynomialFeatures\n",
    "from sklearn.metrics import mean_squared_error\n",
    "from sklearn.model_selection import cross_val_score\n",
    "import sklearn"
   ]
  },
  {
   "cell_type": "markdown",
   "metadata": {},
   "source": [
    "## Question 1\n",
    "\n",
    "In this question, we aim to create a linear regression model do predict the weight of a children based on his/her age. \n",
    "\n",
    "### **1.a)** Let's start by plotting the data in a scatter plot.  Is there any correlation between the weight and age of children? (complement visualization with a statistic information). In your opinion, is it reasonable to create a linear regression model to predict the weight of a children? (3 points out of 20). \n"
   ]
  },
  {
   "cell_type": "code",
   "execution_count": 3,
   "metadata": {},
   "outputs": [
    {
     "name": "stdout",
     "output_type": "stream",
     "text": [
      "             age    weight\n",
      "age     1.000000  0.879615\n",
      "weight  0.879615  1.000000\n",
      "\n",
      "\n",
      "The graph bellow is a great way to justify the high value of correlation - 0.8796145418327413 - there is between the weight and age of children.\n",
      "As there is a clear upward tendency of the scatter points, a linear regression model would be ideal in this situation.\n",
      "In fact, we can infer from common knowledge that with the age increase of children, their weight also increase.\n"
     ]
    },
    {
     "data": {
      "image/png": "[encoded data removed]",
      "text/plain": [
       "<Figure size 432x288 with 1 Axes>"
      ]
     },
     "metadata": {
      "needs_background": "light"
     },
     "output_type": "display_data"
    }
   ],
   "source": [
    "# Solve question here. Add a Markdown cell after this cell if you want to add some comment on your solution.\n",
    "age = dataDF[['age']]\n",
    "weight = dataDF[['weight']]\n",
    "\n",
    "plt.scatter(age, weight, c = 'g')\n",
    "print(dataDF.corr())\n",
    "print(\"\\n\")\n",
    "print(\"The graph bellow is a great way to justify the high value of correlation -\", dataDF.corr().iat[0,1],\"- there is between the weight and age of children.\")\n",
    "print(\"As there is a clear upward tendency of the scatter points, a linear regression model would be ideal in this situation.\")\n",
    "print(\"In fact, we can infer from common knowledge that with the age increase of children, their weight also increase.\")"
   ]
  },
  {
   "cell_type": "markdown",
   "metadata": {},
   "source": [
    "### **1.b)** Build a linear regression model and estimate the true error (5 out of 20) "
   ]
  },
  {
   "cell_type": "code",
   "execution_count": 4,
   "metadata": {},
   "outputs": [
    {
     "name": "stdout",
     "output_type": "stream",
     "text": [
      "The true error, which has its best estimation in the test error, is estimated to be 1.7803654756800744\n"
     ]
    }
   ],
   "source": [
    "# Adapted poly_model function that returns the errors (train and test), the visualization, ...\n",
    "# ... the coefficents and interception\n",
    "seed = 5\n",
    "def poly_model(degree, viz, coef):\n",
    "    polynomial_features = PolynomialFeatures(degree)\n",
    "    \n",
    "    # Transform the original input data\n",
    "    poly_trans = polynomial_features.fit_transform(age)\n",
    "    \n",
    "    input_df = pd.DataFrame(poly_trans)\n",
    "    input_df['weight'] = weight # append weight to DF\n",
    "    \n",
    "    # Split the data into train and test set\n",
    "    train_set, test_set = train_test_split(input_df, test_size = 0.2, random_state = seed)\n",
    "\n",
    "    # Order train data\n",
    "    train_set = train_set.sort_values(1) \n",
    "    \n",
    "    # Exclude the target variable\n",
    "    train_input_df = train_set.iloc[:,0:(len(train_set.columns)-1)] \n",
    "    y_train = train_set[['weight']]\n",
    "    \n",
    "    test_input_df = test_set.iloc[:,0:(len(test_set.columns)-1)] \n",
    "    y_test = test_set[['weight']]\n",
    "    \n",
    "    # Train Model\n",
    "    model = linear_model.LinearRegression()\n",
    "    model.fit(train_input_df, y_train)\n",
    "    \n",
    "    # Apply model to Training Set\n",
    "    poly_model = model.predict(train_input_df)\n",
    "    \n",
    "    # Apply model to Test Set\n",
    "    poly_pred_test = model.predict(test_input_df)\n",
    "    \n",
    "    # Compute square error on train data\n",
    "    error_train = mean_squared_error(y_train, poly_model)\n",
    "    \n",
    "    # Compute square error on test data\n",
    "    error_test = mean_squared_error(y_test, poly_pred_test)\n",
    "    \n",
    "    if viz == True:\n",
    "    # If asked, plot train set only (data used to build the model) and show the model \n",
    "        plt.scatter(train_input_df.iloc[:,1], y_train, c = 'g') # train set\n",
    "        #plt.scatter(test_input_df.iloc[:,1], y_test, c = 'r') # test set\n",
    "\n",
    "        plt.plot(train_input_df.iloc[:,1],poly_model, color = 'r') #  model\n",
    "        plt.show()\n",
    "        \n",
    "    if coef == True:\n",
    "    # If asked, return coefficients and interception\n",
    "        coef = model.coef_\n",
    "        intercept = model.intercept_\n",
    "        return [error_train, error_test, coef, intercept]\n",
    "    else:\n",
    "        return [error_train, error_test]\n",
    "\n",
    "[error_train, error_test] = poly_model(1, False, False)\n",
    "print(\"The true error, which has its best estimation in the test error, is estimated to be\", error_test)"
   ]
  },
  {
   "cell_type": "markdown",
   "metadata": {},
   "source": [
    "### **1.c)** Display in a visualization the data used to build the model as well as the model obtained. Finally,  write the equation of the model obtained (2 out of 20) "
   ]
  },
  {
   "cell_type": "code",
   "execution_count": 5,
   "metadata": {},
   "outputs": [
    {
     "data": {
      "image/png": "[encoded data removed]",
      "text/plain": [
       "<Figure size 432x288 with 1 Axes>"
      ]
     },
     "metadata": {
      "needs_background": "light"
     },
     "output_type": "display_data"
    },
    {
     "name": "stdout",
     "output_type": "stream",
     "text": [
      "The linear regression model consists on a linear function: weight = 0.329094831276924 * age + 5.792864872153801\n"
     ]
    }
   ],
   "source": [
    "# Solve question here. \n",
    "[error_train, error_test, coef, intercept] = poly_model(1, True, True)\n",
    "print(\"The linear regression model consists on a linear function: weight =\", coef[0][1], \"* age +\", intercept[0])"
   ]
  },
  {
   "cell_type": "markdown",
   "metadata": {},
   "source": [
    "## Question 2 (10 points out of 20)"
   ]
  },
  {
   "cell_type": "markdown",
   "metadata": {},
   "source": [
    "Here, we aim to find out if we can create a better model to predict the weigth of children based on their age."
   ]
  },
  {
   "cell_type": "markdown",
   "metadata": {},
   "source": [
    "### **2.a)** Evaluate polynomial model of degrees 1 through 10. What degree would you choose in order to have a better model when compared to the model built previously? Why? (6 out of 20)"
   ]
  },
  {
   "cell_type": "code",
   "execution_count": 8,
   "metadata": {
    "scrolled": true
   },
   "outputs": [
    {
     "data": {
      "text/html": [
       "<div>\n",
       "<style scoped>\n",
       "    .dataframe tbody tr th:only-of-type {\n",
       "        vertical-align: middle;\n",
       "    }\n",
       "\n",
       "    .dataframe tbody tr th {\n",
       "        vertical-align: top;\n",
       "    }\n",
       "\n",
       "    .dataframe thead th {\n",
       "        text-align: right;\n",
       "    }\n",
       "</style>\n",
       "<table border=\"1\" class=\"dataframe\">\n",
       "  <thead>\n",
       "    <tr style=\"text-align: right;\">\n",
       "      <th></th>\n",
       "      <th>degree</th>\n",
       "      <th>test_error</th>\n",
       "    </tr>\n",
       "  </thead>\n",
       "  <tbody>\n",
       "    <tr>\n",
       "      <th>0</th>\n",
       "      <td>10</td>\n",
       "      <td>-1.400844</td>\n",
       "    </tr>\n",
       "    <tr>\n",
       "      <th>1</th>\n",
       "      <td>8</td>\n",
       "      <td>-1.407285</td>\n",
       "    </tr>\n",
       "    <tr>\n",
       "      <th>2</th>\n",
       "      <td>3</td>\n",
       "      <td>-1.409529</td>\n",
       "    </tr>\n",
       "    <tr>\n",
       "      <th>3</th>\n",
       "      <td>4</td>\n",
       "      <td>-1.412721</td>\n",
       "    </tr>\n",
       "    <tr>\n",
       "      <th>4</th>\n",
       "      <td>9</td>\n",
       "      <td>-1.413343</td>\n",
       "    </tr>\n",
       "    <tr>\n",
       "      <th>5</th>\n",
       "      <td>7</td>\n",
       "      <td>-1.417251</td>\n",
       "    </tr>\n",
       "    <tr>\n",
       "      <th>6</th>\n",
       "      <td>5</td>\n",
       "      <td>-1.419276</td>\n",
       "    </tr>\n",
       "    <tr>\n",
       "      <th>7</th>\n",
       "      <td>6</td>\n",
       "      <td>-1.421643</td>\n",
       "    </tr>\n",
       "    <tr>\n",
       "      <th>8</th>\n",
       "      <td>2</td>\n",
       "      <td>-1.443860</td>\n",
       "    </tr>\n",
       "    <tr>\n",
       "      <th>9</th>\n",
       "      <td>1</td>\n",
       "      <td>-1.636245</td>\n",
       "    </tr>\n",
       "  </tbody>\n",
       "</table>\n",
       "</div>"
      ],
      "text/plain": [
       "   degree  test_error\n",
       "0      10   -1.400844\n",
       "1       8   -1.407285\n",
       "2       3   -1.409529\n",
       "3       4   -1.412721\n",
       "4       9   -1.413343\n",
       "5       7   -1.417251\n",
       "6       5   -1.419276\n",
       "7       6   -1.421643\n",
       "8       2   -1.443860\n",
       "9       1   -1.636245"
      ]
     },
     "execution_count": 8,
     "metadata": {},
     "output_type": "execute_result"
    }
   ],
   "source": [
    "# Solve question here. Add a Markdown cell after this cell if you want to add some comment on you solution.\n",
    "\n",
    "def trans_data(degree):\n",
    "    polynomial_features = PolynomialFeatures(degree)\n",
    "    \n",
    "    # Transform the original input data\n",
    "    poly_trans = polynomial_features.fit_transform(age) \n",
    "    input_df = pd.DataFrame(poly_trans)\n",
    "    return input_df\n",
    "\n",
    "model = linear_model.LinearRegression()\n",
    "\n",
    "df = pd.DataFrame({'degree' : range(1, 11)})\n",
    "\n",
    "df['test_error'] = df['degree'].apply(lambda age: cross_val_score(model, trans_data(age), weight, scoring='neg_mean_squared_error', cv=10).mean()) \n",
    "df = df.sort_values('test_error', ascending=False).reset_index(drop=True)\n",
    "lowest_error_deg = df.iat[0,0]\n",
    "df"
   ]
  },
  {
   "cell_type": "markdown",
   "metadata": {},
   "source": [
    "##### Comparing the true error we got for the linear regression model (1.7119), we understand that all the polynomial models have a lower test error.\n",
    "##### As the test error is the best estimation we can get of the true error, all the polynomial models with degree 2 or higher would be a better prediction than the linear model.\n",
    "##### The one with the lowest test error is the degree 10, the highest degree available, with an error of 1.400844."
   ]
  },
  {
   "cell_type": "markdown",
   "metadata": {},
   "source": [
    "### **2.b)** Using the best polynomial degree, find the coefficients of the best curve (2 points out of 20)"
   ]
  },
  {
   "cell_type": "code",
   "execution_count": 9,
   "metadata": {},
   "outputs": [
    {
     "name": "stdout",
     "output_type": "stream",
     "text": [
      "[[ 0.00000000e+00  5.61057214e-02  1.30638542e+00 -8.47232463e-01\n",
      "   2.61277671e-01 -4.49375242e-02  4.60277109e-03 -2.86946814e-04\n",
      "   1.06750415e-05 -2.17784145e-07  1.87461705e-09]]\n"
     ]
    }
   ],
   "source": [
    "# Solve question here. Add a Markdown cell after this cell if you want to add some comment on you solution.\n",
    "    \n",
    "[error_train, error_test, coef, intercept] = poly_model(lowest_error_deg, False, True)\n",
    "print(coef)"
   ]
  },
  {
   "cell_type": "markdown",
   "metadata": {},
   "source": [
    "### **2.c)** Indicate what is the expected error of your model when predicting the weight of children from their age in months. Note that the error should be in Kg, so take careful note of the units you are computing (2 out of 20)"
   ]
  },
  {
   "cell_type": "code",
   "execution_count": 10,
   "metadata": {},
   "outputs": [
    {
     "name": "stdout",
     "output_type": "stream",
     "text": [
      "The expected error of the model is 1.251232055728043\n"
     ]
    }
   ],
   "source": [
    "# Solve question here. Add a Markdown cell after this cell if you want to add some comment on you solution.\n",
    "print(\"The expected error of the model is\", error_test**0.5)"
   ]
  },
  {
   "cell_type": "code",
   "execution_count": null,
   "metadata": {},
   "outputs": [],
   "source": []
  }
 ],
 "metadata": {
  "anaconda-cloud": {},
  "kernelspec": {
   "display_name": "Python 3",
   "language": "python",
   "name": "python3"
  },
  "language_info": {
   "codemirror_mode": {
    "name": "ipython",
    "version": 3
   },
   "file_extension": ".py",
   "mimetype": "text/x-python",
   "name": "python",
   "nbconvert_exporter": "python",
   "pygments_lexer": "ipython3",
   "version": "3.8.8"
  }
 },
 "nbformat": 4,
 "nbformat_minor": 1
}
