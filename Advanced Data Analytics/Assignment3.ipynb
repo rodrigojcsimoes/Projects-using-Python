{
 "cells": [
  {
   "cell_type": "markdown",
   "metadata": {},
   "source": [
    "# Rodrigo João Cabriz Simões, nº 53154"
   ]
  },
  {
   "cell_type": "markdown",
   "metadata": {},
   "source": [
    "# Advanced Data Analysis - Assignment 3\n",
    "\n",
    "This notebook contains the proposed solution for **Assignment 3** of the Advanced Data Analysis course.\n",
    "\n",
    "\n",
    "### DEADLINE: 9-November-2022\n",
    "\n",
    "The assignment is **individual**. You should submit your resolution on Moodle by the deadline. While doing this assignment, you can use or adapt any code from the lectures if you want. \n",
    "\n",
    "Students have three grace days that they can use for all assignments and group project, which allows them to deliver the projects late. Use these grace days carefully.\n",
    "\n",
    "[//]: # (We will be using latex for fomulas)\n",
    "\n",
    "<script type=\"text/javascript\"\n",
    "        src=\"https://cdnjs.cloudflare.com/ajax/libs/mathjax/2.7.0/MathJax.js?config=TeX-AMS_CHTML\"></script>\n",
    "        \n",
    "### Notebook Instructions\n",
    "* You only need to deliver this notebook file (notice that, a notebook file extension is filename.ipynb) - Data files must not be submitted\n",
    "* The notebook should be delivered with the outputs already available\n"
   ]
  },
  {
   "cell_type": "markdown",
   "metadata": {},
   "source": [
    "# Group I "
   ]
  },
  {
   "cell_type": "markdown",
   "metadata": {},
   "source": [
    "Nowadays, industry players are using product quality certifications to promote their products.\n",
    "Vital factor in red wine certification and quality assessment is physicochemical tests, which\n",
    "are laboratory-based and consider factors like acidity, pH level, sugar, and other chemical\n",
    "properties. We would like to determine which feature(s) can be used regression that\n",
    "best predicts the quality red wine.\n",
    "\n",
    "Structure of the dataset:\n",
    "Input variables (based on physicochemical tests):\n",
    "- Fixed Acidity: Most acids involved with wine or fixed or non-volatile (do not evaporate readily)\n",
    "- Volatile Acidity: The amount of acetic acid in wine, which at too high of levels can lead to an unpleasant, vinegar taste\n",
    "- Citric Acid: Often added to wines to increase acidity, complement a specific flavor or prevent ferric hazes\n",
    "- Residual Sugar: From the natural grape sugars left in a wine after the alcoholic fermentation finishes.\n",
    "- Chlorides: The amount of salt in the wine\n",
    "- Free Sulfur Dioxide: It prevents microbial growth and the oxidation of wine\n",
    "- Total Sulfur Dioxide: The amount of free + bound forms of SO₂\n",
    "- Density: Sweeter wines have a higher density\n",
    "- pH: Describes the level of acidity on a scale of 0–14. Most wines are always between 3–4 on the pH scale\n",
    "- Alcohol: Available in small quantities in wines makes the drinkers sociable\n",
    "- Sulphates: A wine additive that contributes to SO₂ levels and acts as an antimicrobial and antioxidant\n",
    "- Quality: which is the output variable/predictor\n",
    "\n",
    "The dataset source is taken from https://archive.ics.uci.edu/ml/datasets/wine+quality.\n"
   ]
  },
  {
   "cell_type": "code",
   "execution_count": 1,
   "metadata": {},
   "outputs": [
    {
     "data": {
      "text/html": [
       "<div>\n",
       "<style scoped>\n",
       "    .dataframe tbody tr th:only-of-type {\n",
       "        vertical-align: middle;\n",
       "    }\n",
       "\n",
       "    .dataframe tbody tr th {\n",
       "        vertical-align: top;\n",
       "    }\n",
       "\n",
       "    .dataframe thead th {\n",
       "        text-align: right;\n",
       "    }\n",
       "</style>\n",
       "<table border=\"1\" class=\"dataframe\">\n",
       "  <thead>\n",
       "    <tr style=\"text-align: right;\">\n",
       "      <th></th>\n",
       "      <th>fixed acidity</th>\n",
       "      <th>volatile acidity</th>\n",
       "      <th>citric acid</th>\n",
       "      <th>residual sugar</th>\n",
       "      <th>chlorides</th>\n",
       "      <th>free sulfur dioxide</th>\n",
       "      <th>total sulfur dioxide</th>\n",
       "      <th>density</th>\n",
       "      <th>pH</th>\n",
       "      <th>sulphates</th>\n",
       "      <th>alcohol</th>\n",
       "      <th>quality</th>\n",
       "    </tr>\n",
       "  </thead>\n",
       "  <tbody>\n",
       "    <tr>\n",
       "      <th>0</th>\n",
       "      <td>7.4</td>\n",
       "      <td>0.70</td>\n",
       "      <td>0.00</td>\n",
       "      <td>1.9</td>\n",
       "      <td>0.076</td>\n",
       "      <td>11.0</td>\n",
       "      <td>34.0</td>\n",
       "      <td>0.9978</td>\n",
       "      <td>3.51</td>\n",
       "      <td>0.56</td>\n",
       "      <td>9.4</td>\n",
       "      <td>5</td>\n",
       "    </tr>\n",
       "    <tr>\n",
       "      <th>1</th>\n",
       "      <td>7.8</td>\n",
       "      <td>0.88</td>\n",
       "      <td>0.00</td>\n",
       "      <td>2.6</td>\n",
       "      <td>0.098</td>\n",
       "      <td>25.0</td>\n",
       "      <td>67.0</td>\n",
       "      <td>0.9968</td>\n",
       "      <td>3.20</td>\n",
       "      <td>0.68</td>\n",
       "      <td>9.8</td>\n",
       "      <td>5</td>\n",
       "    </tr>\n",
       "    <tr>\n",
       "      <th>2</th>\n",
       "      <td>7.8</td>\n",
       "      <td>0.76</td>\n",
       "      <td>0.04</td>\n",
       "      <td>2.3</td>\n",
       "      <td>0.092</td>\n",
       "      <td>15.0</td>\n",
       "      <td>54.0</td>\n",
       "      <td>0.9970</td>\n",
       "      <td>3.26</td>\n",
       "      <td>0.65</td>\n",
       "      <td>9.8</td>\n",
       "      <td>5</td>\n",
       "    </tr>\n",
       "    <tr>\n",
       "      <th>3</th>\n",
       "      <td>11.2</td>\n",
       "      <td>0.28</td>\n",
       "      <td>0.56</td>\n",
       "      <td>1.9</td>\n",
       "      <td>0.075</td>\n",
       "      <td>17.0</td>\n",
       "      <td>60.0</td>\n",
       "      <td>0.9980</td>\n",
       "      <td>3.16</td>\n",
       "      <td>0.58</td>\n",
       "      <td>9.8</td>\n",
       "      <td>6</td>\n",
       "    </tr>\n",
       "    <tr>\n",
       "      <th>4</th>\n",
       "      <td>7.4</td>\n",
       "      <td>0.70</td>\n",
       "      <td>0.00</td>\n",
       "      <td>1.9</td>\n",
       "      <td>0.076</td>\n",
       "      <td>11.0</td>\n",
       "      <td>34.0</td>\n",
       "      <td>0.9978</td>\n",
       "      <td>3.51</td>\n",
       "      <td>0.56</td>\n",
       "      <td>9.4</td>\n",
       "      <td>5</td>\n",
       "    </tr>\n",
       "  </tbody>\n",
       "</table>\n",
       "</div>"
      ],
      "text/plain": [
       "   fixed acidity  volatile acidity  citric acid  residual sugar  chlorides  \\\n",
       "0            7.4              0.70         0.00             1.9      0.076   \n",
       "1            7.8              0.88         0.00             2.6      0.098   \n",
       "2            7.8              0.76         0.04             2.3      0.092   \n",
       "3           11.2              0.28         0.56             1.9      0.075   \n",
       "4            7.4              0.70         0.00             1.9      0.076   \n",
       "\n",
       "   free sulfur dioxide  total sulfur dioxide  density    pH  sulphates  \\\n",
       "0                 11.0                  34.0   0.9978  3.51       0.56   \n",
       "1                 25.0                  67.0   0.9968  3.20       0.68   \n",
       "2                 15.0                  54.0   0.9970  3.26       0.65   \n",
       "3                 17.0                  60.0   0.9980  3.16       0.58   \n",
       "4                 11.0                  34.0   0.9978  3.51       0.56   \n",
       "\n",
       "   alcohol  quality  \n",
       "0      9.4        5  \n",
       "1      9.8        5  \n",
       "2      9.8        5  \n",
       "3      9.8        6  \n",
       "4      9.4        5  "
      ]
     },
     "execution_count": 1,
     "metadata": {},
     "output_type": "execute_result"
    }
   ],
   "source": [
    "# This code cell does not need to be changed\n",
    "import os\n",
    "import pandas as pd\n",
    "from sklearn import linear_model\n",
    "\n",
    "dataFileName = \"winequality-red.csv\"\n",
    "dataDF = pd.read_csv(dataFileName)\n",
    "\n",
    "dataDF.head()"
   ]
  },
  {
   "cell_type": "markdown",
   "metadata": {},
   "source": [
    "## Question 1 (1 point out of 20)"
   ]
  },
  {
   "cell_type": "markdown",
   "metadata": {},
   "source": [
    "Identify the variables that are more linearly correlated with the quality of red wine"
   ]
  },
  {
   "cell_type": "code",
   "execution_count": 2,
   "metadata": {},
   "outputs": [
    {
     "data": {
      "text/plain": [
       "alcohol                 0.476166\n",
       "volatile acidity        0.390558\n",
       "sulphates               0.251397\n",
       "citric acid             0.226373\n",
       "total sulfur dioxide    0.185100\n",
       "density                 0.174919\n",
       "chlorides               0.128907\n",
       "fixed acidity           0.124052\n",
       "pH                      0.057731\n",
       "free sulfur dioxide     0.050656\n",
       "residual sugar          0.013732\n",
       "Name: quality, dtype: float64"
      ]
     },
     "execution_count": 2,
     "metadata": {},
     "output_type": "execute_result"
    }
   ],
   "source": [
    "#TODO\n",
    "# Absolute value to assess the variables more linearly correlated\n",
    "dataDF.corr()[\"quality\"].abs().sort_values(ascending=False).iloc[1:]"
   ]
  },
  {
   "cell_type": "markdown",
   "metadata": {},
   "source": [
    "## Question 2 ( 2 points out of 20)"
   ]
  },
  {
   "cell_type": "markdown",
   "metadata": {},
   "source": [
    "Estimate the true error of a model that uses the top 4 variables more correlated with the quality of red wine"
   ]
  },
  {
   "cell_type": "code",
   "execution_count": 3,
   "metadata": {},
   "outputs": [
    {
     "name": "stdout",
     "output_type": "stream",
     "text": [
      "Estimated true error (test error): 0.4439518038537466\n"
     ]
    }
   ],
   "source": [
    "#TODO\n",
    "from sklearn.model_selection import cross_val_score\n",
    "\n",
    "top4var = dataDF.corr()[\"quality\"].abs().sort_values(ascending=False).iloc[1:].nlargest(4).index\n",
    "\n",
    "def regression_f(input, quality):\n",
    "    model = linear_model.LinearRegression()\n",
    "    return -1 * cross_val_score(model, input, quality, scoring='neg_mean_squared_error', cv=10).mean()\n",
    "\n",
    "\n",
    "test_error = regression_f(dataDF[list(top4var)], dataDF[[\"quality\"]])\n",
    "print(f'Estimated true error (test error): {test_error}')"
   ]
  },
  {
   "cell_type": "markdown",
   "metadata": {},
   "source": [
    "## Question 3 ( 4 points out of 20)"
   ]
  },
  {
   "cell_type": "markdown",
   "metadata": {},
   "source": [
    "Evaluate two other models of your choice and compare/discuss their expected errors? (explain your criteria for each model tested)"
   ]
  },
  {
   "cell_type": "code",
   "execution_count": 4,
   "metadata": {},
   "outputs": [
    {
     "name": "stdout",
     "output_type": "stream",
     "text": [
      "Estimated true error (test error) for a model that uses the 2 variables with the highest linear correlation: 0.4491545479773307\n",
      "\n",
      "\n",
      "Estimated true error (test error) for a model that uses the all variables: 0.435184904030092\n"
     ]
    }
   ],
   "source": [
    "#TODO\n",
    "\n",
    "# Consider 2 variables with highest linear correlation\n",
    "top2var = dataDF.corr()[\"quality\"].abs().sort_values(ascending=False).iloc[1:].nlargest(2).index\n",
    "\n",
    "test_error = regression_f(dataDF[list(top2var)], dataDF[[\"quality\"]])\n",
    "print(f'Estimated true error (test error) for a model that uses the 2 variables with the highest linear correlation: {test_error}')\n",
    "print(\"\\n\")\n",
    "\n",
    "# Consider all variables\n",
    "test_error = regression_f(dataDF.drop([\"quality\"], axis = 1), dataDF[[\"quality\"]])\n",
    "print(f'Estimated true error (test error) for a model that uses the all variables: {test_error}')"
   ]
  },
  {
   "cell_type": "markdown",
   "metadata": {},
   "source": [
    "**Explanation**\n",
    "\n",
    "We should choose the model thats uses all variables, because it has the lower estimated true error. Using cross-validation on each model to assess the mean of the MSEs between each set of variables and the quality of red wine, we estimate a smaller true error when all inputs variables are considered.\n",
    "\n",
    "I chose a model that only uses the 2 variables with highest linear correlation, as it could have a lower estimated true error if there was overfitting in the first model, which is not the case.\n",
    "I also chose a model that uses all variables to check if the data would fit better with more factors to account for, which was the case. Therefore, we can say the model from the last exercise suffers from underfitting."
   ]
  },
  {
   "cell_type": "markdown",
   "metadata": {},
   "source": [
    "## Question 4 ( 3 points out of 20)"
   ]
  },
  {
   "cell_type": "markdown",
   "metadata": {},
   "source": [
    "Based on the best model identified previously, build a final model, report the formula (coefficients found) and evaluate it. On average, how far is your predictions from the actual values?"
   ]
  },
  {
   "cell_type": "code",
   "execution_count": 5,
   "metadata": {},
   "outputs": [
    {
     "name": "stdout",
     "output_type": "stream",
     "text": [
      "Coefficients of the model: [[ 2.72432239e-02 -1.03435127e+00 -1.74033092e-01  1.51390982e-02\n",
      "  -1.81062782e+00  4.22993833e-03 -3.29586903e-03 -1.71297726e+01\n",
      "  -3.93833264e-01  8.33810797e-01  2.71436753e-01]]\n",
      "\n",
      "\n",
      "Interception of the model: 21.20140324926612\n",
      "\n",
      "\n",
      "\u001b[1m(Model evaluation) \u001b[0mMean squared error: 0.40938401510422395\n",
      "\u001b[1m(Last question) \u001b[0mAverage difference between the predictions and the actual values: 0.4941860285802683\n"
     ]
    },
    {
     "data": {
      "image/png": "[encoded data removed]",
      "text/plain": [
       "<Figure size 432x288 with 1 Axes>"
      ]
     },
     "metadata": {
      "needs_background": "light"
     },
     "output_type": "display_data"
    }
   ],
   "source": [
    "from sklearn.model_selection import train_test_split\n",
    "import matplotlib.pyplot as plt\n",
    "from sklearn.metrics import mean_squared_error\n",
    "from sklearn.metrics import mean_absolute_error\n",
    "\n",
    "# Split data into train set and test set\n",
    "train_set, test_set = train_test_split(dataDF, test_size = 0.2, random_state = 40)\n",
    "\n",
    "y_train = train_set[['quality']]\n",
    "x_train = train_set.drop(['quality'], axis = 1)\n",
    "\n",
    "# Fit linear model\n",
    "model = linear_model.LinearRegression()\n",
    "model.fit(x_train, y_train)\n",
    "\n",
    "coef = model.coef_\n",
    "intercept = model.intercept_\n",
    "\n",
    "print(\"Coefficients of the model:\", str(coef))\n",
    "print(\"\\n\")\n",
    "print(\"Interception of the model:\", float(intercept))\n",
    "print(\"\\n\")\n",
    "\n",
    "y_test = test_set[['quality']]\n",
    "x_test = test_set.drop(['quality'], axis = 1)\n",
    "y_pred = model.predict(x_test)\n",
    "residuals = y_test - y_pred\n",
    "\n",
    "# Plot residuals\n",
    "plt.scatter(y_pred, residuals)\n",
    "plt.xlabel('Predicted')\n",
    "plt.ylabel('Residual Value')\n",
    "\n",
    "mse = mean_squared_error(y_test, y_pred)\n",
    "print(\"\\033[1m\" + \"(Model evaluation) \" + \"\\033[0m\" + \"Mean squared error:\",float(mse))\n",
    "\n",
    "avg = mean_absolute_error(y_pred, y_test)\n",
    "print(\"\\033[1m\" + \"(Last question) \" + \"\\033[0m\" + \"Average difference between the predictions and the actual values:\", float(avg))"
   ]
  },
  {
   "cell_type": "markdown",
   "metadata": {},
   "source": [
    "**Explanation**\n",
    "\n",
    "The residuals graph is simetrical because the residuals are centered around 0."
   ]
  },
  {
   "cell_type": "markdown",
   "metadata": {},
   "source": [
    "# Group II"
   ]
  },
  {
   "cell_type": "markdown",
   "metadata": {},
   "source": [
    "The file internet.csv contains the estimated number of internet users (in millions) for each year from 1995\n",
    "through 2012. For answering the following questions, you can use or adapt any code from the lectures or exercises\n",
    "if you want.\n"
   ]
  },
  {
   "cell_type": "code",
   "execution_count": 6,
   "metadata": {},
   "outputs": [],
   "source": [
    "dataFileName = \"internet.csv\"\n",
    "dataDF = pd.read_csv(dataFileName)"
   ]
  },
  {
   "cell_type": "code",
   "execution_count": 7,
   "metadata": {},
   "outputs": [
    {
     "data": {
      "text/html": [
       "<div>\n",
       "<style scoped>\n",
       "    .dataframe tbody tr th:only-of-type {\n",
       "        vertical-align: middle;\n",
       "    }\n",
       "\n",
       "    .dataframe tbody tr th {\n",
       "        vertical-align: top;\n",
       "    }\n",
       "\n",
       "    .dataframe thead th {\n",
       "        text-align: right;\n",
       "    }\n",
       "</style>\n",
       "<table border=\"1\" class=\"dataframe\">\n",
       "  <thead>\n",
       "    <tr style=\"text-align: right;\">\n",
       "      <th></th>\n",
       "      <th>year</th>\n",
       "      <th>n_users</th>\n",
       "    </tr>\n",
       "  </thead>\n",
       "  <tbody>\n",
       "    <tr>\n",
       "      <th>0</th>\n",
       "      <td>0</td>\n",
       "      <td>16</td>\n",
       "    </tr>\n",
       "    <tr>\n",
       "      <th>1</th>\n",
       "      <td>1</td>\n",
       "      <td>36</td>\n",
       "    </tr>\n",
       "    <tr>\n",
       "      <th>2</th>\n",
       "      <td>2</td>\n",
       "      <td>70</td>\n",
       "    </tr>\n",
       "    <tr>\n",
       "      <th>3</th>\n",
       "      <td>3</td>\n",
       "      <td>147</td>\n",
       "    </tr>\n",
       "    <tr>\n",
       "      <th>4</th>\n",
       "      <td>4</td>\n",
       "      <td>248</td>\n",
       "    </tr>\n",
       "  </tbody>\n",
       "</table>\n",
       "</div>"
      ],
      "text/plain": [
       "   year  n_users\n",
       "0     0       16\n",
       "1     1       36\n",
       "2     2       70\n",
       "3     3      147\n",
       "4     4      248"
      ]
     },
     "execution_count": 7,
     "metadata": {},
     "output_type": "execute_result"
    }
   ],
   "source": [
    "dataset_df = pd.DataFrame()\n",
    "dataset_df['year'] = dataDF.index\n",
    "dataset_df['n_users'] = dataDF['n_users']\n",
    "x = dataset_df[['year']]\n",
    "y = dataset_df[['n_users']]\n",
    "dataset_df.head()"
   ]
  },
  {
   "cell_type": "markdown",
   "metadata": {},
   "source": [
    "## Question 1 (5 points out of 20)"
   ]
  },
  {
   "attachments": {
    "image.png": {
     "image/png": "[encoded data removed]"
    }
   },
   "cell_type": "markdown",
   "metadata": {},
   "source": [
    "In lecture 6, we used the logistic function with an offset parameter to better fit the curve to some arbitrary starting point:\n",
    "\n",
    "![image.png](attachment:image.png)\n",
    "\n",
    "Fit this model to the data and show to the plots of the data and the curve predicted by the\n",
    "model. Additionally, display the parameters found for the logistic model and explain the meaning of each one.  \n",
    "\n",
    "Note: I suggest you use these starting values for the minimization: L = 1000, x0 = 10, k = 0.1 and\n",
    "o = −300. If you use other values the minimization may not converge properly.\n"
   ]
  },
  {
   "cell_type": "code",
   "execution_count": 8,
   "metadata": {},
   "outputs": [
    {
     "name": "stdout",
     "output_type": "stream",
     "text": [
      "Parameters found: x0 => 15.22085242072284 ; L => 6461.99965663445 ; k => 0.188720218347374 ; o => -384.70785348059115\n"
     ]
    },
    {
     "data": {
      "image/png": "[encoded data removed]",
      "text/plain": [
       "<Figure size 720x360 with 1 Axes>"
      ]
     },
     "metadata": {
      "needs_background": "light"
     },
     "output_type": "display_data"
    }
   ],
   "source": [
    "#TODO\n",
    "from scipy.optimize import minimize \n",
    "import matplotlib.pyplot as plt\n",
    "import numpy as np\n",
    "\n",
    "# Logistic Function\n",
    "def logistic(x,x0,L,k):\n",
    "    return L/(1 + np.exp(-k*(x-x0)))\n",
    "\n",
    "# Cost function - Minimize mean squared error\n",
    "def log_cost(params, data):\n",
    "    x0,L,k,o = params\n",
    "    pred = logistic(data.iloc[:,0],x0,L,k) + o\n",
    "    return np.mean( (pred-data.iloc[:,1])**2)\n",
    "\n",
    "plt.figure(figsize=(10,5))\n",
    "x0,L,k,o = [10, 1000, 0.1, -300]\n",
    "st_params = x0,L,k,o\n",
    "res=minimize(log_cost,st_params,args=(dataset_df))\n",
    "x0,L,k,o = res.x\n",
    "\n",
    "# Used the model found (logistic model with a set of parameters and an offset) to predict the values\n",
    "pred = logistic(dataset_df.iloc[:,0],x0,L,k) + o\n",
    "\n",
    "# Plot the data and the model built\n",
    "plt.plot(dataset_df.iloc[:,0],dataset_df.iloc[:,1],'.')\n",
    "plt.plot(dataset_df.iloc[:,0],pred)\n",
    "\n",
    "print(\"Parameters found: x0 =>\", x0, \";\", \"L =>\", L, \";\", \"k =>\", k, \";\", \"o =>\", o)"
   ]
  },
  {
   "cell_type": "markdown",
   "metadata": {},
   "source": [
    "**Parameters explanation**\n",
    "\n",
    "x0 => the value of the sigmoid's midpoint\n",
    "\n",
    "L => the horizontal supremum of the values of the function (size limit of internet users)\n",
    "\n",
    "k => the logistic growth rate/steepness of the curve\n",
    "\n",
    "o => vertical shift of the function, used to correct the bias (offset)"
   ]
  },
  {
   "cell_type": "markdown",
   "metadata": {},
   "source": [
    "## Question 2 (2 points out of 20)"
   ]
  },
  {
   "cell_type": "markdown",
   "metadata": {},
   "source": [
    "Compute and plot the residuals of the model found. What can we tell about the model identified based on the Residual Plot? Is a logistic function a good option to model users' growth over time in our dataset?"
   ]
  },
  {
   "cell_type": "code",
   "execution_count": 9,
   "metadata": {},
   "outputs": [
    {
     "data": {
      "text/plain": [
       "Text(0, 0.5, 'Residual Value')"
      ]
     },
     "execution_count": 9,
     "metadata": {},
     "output_type": "execute_result"
    },
    {
     "data": {
      "image/png": "[encoded data removed]",
      "text/plain": [
       "<Figure size 432x288 with 1 Axes>"
      ]
     },
     "metadata": {
      "needs_background": "light"
     },
     "output_type": "display_data"
    }
   ],
   "source": [
    "#TODO\n",
    "residuals = dataset_df.iloc[:,1] - pred\n",
    "\n",
    "plt.scatter(pred, residuals)\n",
    "plt.xlabel('Predicted')\n",
    "plt.ylabel('Residual Value')"
   ]
  },
  {
   "cell_type": "markdown",
   "metadata": {},
   "source": [
    "**Explanation**\n",
    "\n",
    "Higher prediction values lead to residual values closer to 0. This means the model is more accurate to predict the number of internet users in the most recent years, when the number of users has a higher value.\n",
    "\n",
    "There is also a special trend to return predictions too high (negative residual values).\n",
    "\n",
    "The scale for the residual value also shows how far predictions are from the real values (should be clustered around the lower single digits of the y-axis). We also do not have enough observations to analyse clusters or a normal distribution with most points centered around 0 residual value. There is therefore some uncertainty in this evaluation.\n",
    "\n",
    "Because of all these factors, the model can be improved."
   ]
  },
  {
   "cell_type": "markdown",
   "metadata": {},
   "source": [
    "## Question 3 (3 points out of 20)"
   ]
  },
  {
   "cell_type": "markdown",
   "metadata": {},
   "source": [
    "Compute the 95% confidence interval for its parameters under the assumption that the random error affecting the data points comes from the same distribution for all points."
   ]
  },
  {
   "cell_type": "code",
   "execution_count": 10,
   "metadata": {},
   "outputs": [
    {
     "data": {
      "image/png": "[encoded data removed]",
      "text/plain": [
       "<Figure size 432x288 with 1 Axes>"
      ]
     },
     "metadata": {
      "needs_background": "light"
     },
     "output_type": "display_data"
    }
   ],
   "source": [
    "#TODO\n",
    "params = []\n",
    "lines = []\n",
    "pred = logistic(dataset_df.iloc[:,0], x0, L, k) + o\n",
    "\n",
    "residual = dataset_df.iloc[:,1] - pred\n",
    "\n",
    "plt.scatter(x, y, color = 'blue')\n",
    "replicas = 80\n",
    "\n",
    "df_unc = pd.DataFrame(x)\n",
    "\n",
    "list_x0 = []\n",
    "list_L = []\n",
    "list_k = []\n",
    "list_o = []\n",
    "\n",
    "i = 0;\n",
    "for _ in range(replicas):\n",
    "\n",
    "    rep_data = dataset_df.copy() \n",
    "\n",
    "    rep_data.iloc[:,1] = pred + residual * np.random.normal(size=dataset_df.shape[0])\n",
    "\n",
    "    res = minimize(log_cost,st_params,args=(rep_data))\n",
    "    x0, L, k, o = res.x\n",
    "    list_x0.append(x0)\n",
    "    list_L.append(L)\n",
    "    list_k.append(k)\n",
    "    list_o.append(o)\n",
    "    pred_replica = logistic(dataset_df.iloc[:,0], x0, L, k) + o\n",
    "\n",
    "    df_unc =  pd.concat([df_unc, pred_replica], axis=1) \n",
    "    df_unc\n",
    "    i = i + 1;\n",
    "    plt.plot(dataset_df.iloc[:,0], df_unc.iloc[:,i] , c = 'green',alpha=0.3)"
   ]
  },
  {
   "cell_type": "code",
   "execution_count": 11,
   "metadata": {},
   "outputs": [
    {
     "data": {
      "text/plain": [
       "<matplotlib.collections.PolyCollection at 0x7f912f015700>"
      ]
     },
     "execution_count": 11,
     "metadata": {},
     "output_type": "execute_result"
    },
    {
     "data": {
      "image/png": "[encoded data removed]",
      "text/plain": [
       "<Figure size 432x288 with 1 Axes>"
      ]
     },
     "metadata": {
      "needs_background": "light"
     },
     "output_type": "display_data"
    }
   ],
   "source": [
    "plt.scatter(x, y, color='blue')\n",
    "\n",
    "df_unc1=df_unc.copy()\n",
    "df_unc1['median'] = df_unc.quantile(0.5, axis = 1, interpolation = 'midpoint')\n",
    "df_unc1['p5'] = df_unc.quantile(0.05, axis = 1,interpolation = 'midpoint')\n",
    "df_unc1['p95'] = df_unc.quantile(0.95, axis = 1,interpolation = 'midpoint')\n",
    "\n",
    "plt.plot(dataset_df['year'], df_unc1['median'], color = 'red')\n",
    "plt.fill_between(dataset_df[['year']].iloc[:,0], df_unc1[['p5']].iloc[:,0], df_unc1[['p95']].iloc[:,0], color='red',alpha=0.3)"
   ]
  },
  {
   "cell_type": "code",
   "execution_count": 12,
   "metadata": {},
   "outputs": [
    {
     "name": "stdout",
     "output_type": "stream",
     "text": [
      "Cofidence interval of 95% for the x0 is: (14.884926833959943, 15.978660122012032)\n",
      "Cofidence interval of 95% for the L is: (6192.5685605567605, 7233.186983879651)\n",
      "Cofidence interval of 95% for the k is: (0.18686077349053126, 0.1988245593116547)\n",
      "Cofidence interval of 95% for the offset is: (-409.2252296734865, -352.1943643255687)\n",
      "Cofidence interval of 95% for the all data is: (array([  5.84520695, 735.89285566]), array([  11.15479305, 1845.32936656]))\n"
     ]
    }
   ],
   "source": [
    "import scipy.stats as st\n",
    "\n",
    "def CI(data, nivel):\n",
    "    return st.t.interval(alpha=nivel, df=len(data)-1, loc=np.mean(data), scale=st.sem(data))\n",
    "\n",
    "print(f'Cofidence interval of 95% for the x0 is: {CI(list_x0, 0.95)}')\n",
    "print(f'Cofidence interval of 95% for the L is: {CI(list_L, 0.95)}')\n",
    "print(f'Cofidence interval of 95% for the k is: {CI(list_k, 0.95)}')\n",
    "print(f'Cofidence interval of 95% for the offset is: {CI(list_o, 0.95)}')\n",
    "print(f'Cofidence interval of 95% for the all data is: {CI(dataset_df, 0.95)}')"
   ]
  },
  {
   "cell_type": "code",
   "execution_count": null,
   "metadata": {},
   "outputs": [],
   "source": []
  }
 ],
 "metadata": {
  "anaconda-cloud": {},
  "kernelspec": {
   "display_name": "Python 3 (ipykernel)",
   "language": "python",
   "name": "python3"
  },
  "language_info": {
   "codemirror_mode": {
    "name": "ipython",
    "version": 3
   },
   "file_extension": ".py",
   "mimetype": "text/x-python",
   "name": "python",
   "nbconvert_exporter": "python",
   "pygments_lexer": "ipython3",
   "version": "3.8.18"
  }
 },
 "nbformat": 4,
 "nbformat_minor": 4
}
